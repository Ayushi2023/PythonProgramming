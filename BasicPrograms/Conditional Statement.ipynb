{
 "cells": [
  {
   "cell_type": "markdown",
   "id": "49f5fa1b",
   "metadata": {},
   "source": [
    "## Question 1 - Take user input & check no.is even or odd."
   ]
  },
  {
   "cell_type": "code",
   "execution_count": 1,
   "id": "1baa2573",
   "metadata": {},
   "outputs": [
    {
     "name": "stdout",
     "output_type": "stream",
     "text": [
      "Enter a Number: 5\n",
      "Odd Number\n"
     ]
    }
   ],
   "source": [
    "num = int(input(\"Enter a Number: \"))\n",
    "print(\"Even Number\") if num % 2 == 0 else print(\"Odd Number\")"
   ]
  },
  {
   "cell_type": "markdown",
   "id": "78d056a3",
   "metadata": {},
   "source": [
    "## Question 2 - Take 3 user inputs & check the larger no. by nested if method"
   ]
  },
  {
   "cell_type": "code",
   "execution_count": 4,
   "id": "685423e0",
   "metadata": {},
   "outputs": [
    {
     "name": "stdout",
     "output_type": "stream",
     "text": [
      "enter your number1: 5\n",
      "enter your number2: 9\n",
      "enter your number3: 8\n",
      "Number2 is greater\n"
     ]
    }
   ],
   "source": [
    "n1 = int(input(\"enter your number1: \"))\n",
    "n2 = int(input(\"enter your number2: \"))\n",
    "n3 = int(input(\"enter your number3: \"))\n",
    "if (n1 > n2) & (n1 >n3) :\n",
    "    print(\"Number1 is greater\")\n",
    "else:\n",
    "    if (n2 > n1) & (n2 > n3) :\n",
    "        print(\"Number2 is greater\")\n",
    "    else:\n",
    "        print(\"Number3 is greater\")"
   ]
  },
  {
   "cell_type": "code",
   "execution_count": 5,
   "id": "3f06bba1",
   "metadata": {},
   "outputs": [
    {
     "name": "stdout",
     "output_type": "stream",
     "text": [
      "Enter Numbers: 10 41 51 37 68 48\n",
      "68\n"
     ]
    }
   ],
   "source": [
    "# Multiple inputs\n",
    "print(max(list(map(int, input(\"Enter Numbers: \").split()))))"
   ]
  },
  {
   "cell_type": "markdown",
   "id": "38f756d7",
   "metadata": {},
   "source": [
    "## Question 3 -  Read an year and find whether that year is leap or not?\n",
    "* Conditions for being leap year:\n",
    "* It should be divisible by four.\n",
    "* If its a century year, it should be divisible by 400 also."
   ]
  },
  {
   "cell_type": "code",
   "execution_count": 14,
   "id": "1f30a43f",
   "metadata": {},
   "outputs": [
    {
     "name": "stdout",
     "output_type": "stream",
     "text": [
      "Enter any year:2000\n",
      "2000 is a Leap Year\n"
     ]
    }
   ],
   "source": [
    "a = int(input(\"Enter any year:\")) \n",
    "if a % 100 == 0:\n",
    "    if a % 400 == 0:\n",
    "        print(\"{} is a Leap Year\".format(a))\n",
    "    else:\n",
    "        print(\"{} is not a Leap Year\".format(a))\n",
    "else:\n",
    "    if a % 4 == 0:\n",
    "        print(\"{} is a Leap Year\".format(a))\n",
    "    else:\n",
    "        print(\"{} is not a Leap Year\".format(a))"
   ]
  },
  {
   "cell_type": "markdown",
   "id": "f2ab60ca",
   "metadata": {},
   "source": [
    "## Question 4 - Read marks in %age from student find the grade of it as per condition:\n",
    "* Above 75% : Distinction  \n",
    "* 60% - 75% : First Class \n",
    "* 50% - 60% : Second Class \n",
    "* 40% - 50% : Pass Class\n",
    "* Below 40% : Failed"
   ]
  },
  {
   "cell_type": "code",
   "execution_count": 16,
   "id": "a9c3ce98",
   "metadata": {},
   "outputs": [
    {
     "name": "stdout",
     "output_type": "stream",
     "text": [
      "Enter marks in percentage : 84\n",
      "Distinction 84\n"
     ]
    }
   ],
   "source": [
    "marks = int(input(\"Enter marks in percentage : \"))\n",
    "if marks >= 75:\n",
    "    print(\"Distinction\",marks)\n",
    "elif marks >= 60 and marks < 75:\n",
    "    print(\"First class\",marks)\n",
    "elif marks >=50 and marks <60:\n",
    "    print(\"Second class\",marks)\n",
    "elif marks >=40 and marks < 50:\n",
    "    print(\"Pass class\",marks)\n",
    "else:\n",
    "    print(\"Failed\")"
   ]
  },
  {
   "cell_type": "markdown",
   "id": "5eebf95e",
   "metadata": {},
   "source": [
    "## Question 5 - WAP to input electricity unit charges and Calculate total Electricity Bill according to the given condition:\n",
    "* For first 50 units Rs. 0.50/unit\n",
    "* For next 100 units Rs. 0.75/unit\n",
    "* For next 100 units Rs. 1.25/unit\n",
    "* For unit above 250 Rs. 1.50/unit\n",
    "* An additional surcharge of 17% is added to the bill"
   ]
  },
  {
   "cell_type": "code",
   "execution_count": 21,
   "id": "e8feb2d4",
   "metadata": {},
   "outputs": [
    {
     "name": "stdout",
     "output_type": "stream",
     "text": [
      "Enter the units : 250\n",
      "Total Electricity Bill is :  365.625\n"
     ]
    }
   ],
   "source": [
    "units = int(input(\"Enter the units : \"))\n",
    "if units <= 50:\n",
    "    amount = units * 0.50\n",
    "elif units > 50 and units <= 150:\n",
    "    amount = units * 0.75\n",
    "elif units > 150 and units <= 250:\n",
    "    amount = units * 1.25\n",
    "else:\n",
    "    amount = units * 1.50\n",
    "print(\"Total Electricity Bill is : \", (amount + (amount * 17 / 100)))"
   ]
  }
 ],
 "metadata": {
  "kernelspec": {
   "display_name": "Python 3 (ipykernel)",
   "language": "python",
   "name": "python3"
  },
  "language_info": {
   "codemirror_mode": {
    "name": "ipython",
    "version": 3
   },
   "file_extension": ".py",
   "mimetype": "text/x-python",
   "name": "python",
   "nbconvert_exporter": "python",
   "pygments_lexer": "ipython3",
   "version": "3.9.12"
  }
 },
 "nbformat": 4,
 "nbformat_minor": 5
}
