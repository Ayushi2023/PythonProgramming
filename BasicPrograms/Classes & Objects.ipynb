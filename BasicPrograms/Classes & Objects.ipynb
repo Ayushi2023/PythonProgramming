{
 "cells": [
  {
   "cell_type": "markdown",
   "id": "3eac0998",
   "metadata": {},
   "source": [
    "## Create a Class which Performs Basic Calculator Operations"
   ]
  },
  {
   "cell_type": "code",
   "execution_count": 4,
   "id": "5a6e7915",
   "metadata": {},
   "outputs": [
    {
     "name": "stdout",
     "output_type": "stream",
     "text": [
      "Enter Two Numbers to Calculate:20 10\n",
      "Addition of your number is: 30\n",
      "Substraction of your number is: 10\n",
      "Multiplication of your number is: 200\n",
      "Division of your number is: 2.0\n"
     ]
    }
   ],
   "source": [
    "class calculator:\n",
    "    def __init__(self,a,b):\n",
    "        self.a = a\n",
    "        self.b = b\n",
    "    def Addition(self):\n",
    "        print(\"Addition of your number is:\",self.a + self.b)\n",
    "    def Substraction(self):\n",
    "        print(\"Substraction of your number is:\",self.a - self.b)\n",
    "    def Multiplication(self):\n",
    "        print(\"Multiplication of your number is:\",self.a * self.b)\n",
    "    def Division(self):\n",
    "        print(\"Division of your number is:\",self.a / self.b)\n",
    "\n",
    "a,b = map(int,input(\"Enter Two Numbers to Calculate:\").split())\n",
    "c1 = calculator(a,b)\n",
    "c1.Addition()\n",
    "c1.Substraction()\n",
    "c1.Multiplication()\n",
    "c1.Division()"
   ]
  },
  {
   "cell_type": "markdown",
   "id": "57cef0f3",
   "metadata": {},
   "source": [
    "## Create a Class in which One Method Accepts a String from the User and Another Prints it"
   ]
  },
  {
   "cell_type": "code",
   "execution_count": 5,
   "id": "d6a7e989",
   "metadata": {},
   "outputs": [
    {
     "name": "stdout",
     "output_type": "stream",
     "text": [
      "Enter your string: Hello\n",
      "Your string: Hello\n"
     ]
    }
   ],
   "source": [
    "class stringUser:\n",
    "    a = \"\"\n",
    "    def userInput(self):\n",
    "        stringUser.a = input(\"Enter your string: \")\n",
    "    def userOutput(self):\n",
    "        print(\"Your string:\",stringUser.a)\n",
    "        \n",
    "s1 = stringUser()\n",
    "s1.userInput()\n",
    "s1.userOutput()"
   ]
  },
  {
   "cell_type": "markdown",
   "id": "d5732acd",
   "metadata": {},
   "source": [
    "## Python Program to Find the Area and Perimeter of the Circle using Class"
   ]
  },
  {
   "cell_type": "code",
   "execution_count": 11,
   "id": "9c2ade02",
   "metadata": {},
   "outputs": [
    {
     "name": "stdout",
     "output_type": "stream",
     "text": [
      "Enter the radius to calculate : 4\n",
      "Area of the circle :  50.24\n",
      "Perimeter of the circle :  25.12\n"
     ]
    }
   ],
   "source": [
    "class circle:\n",
    "    def __init__(self,radius):\n",
    "        self.radius = radius\n",
    "    def area(self):\n",
    "        print(\"Area of the circle : \", 3.14 * self.radius ** 2)\n",
    "    def perimeter(self):\n",
    "        print(\"Perimeter of the circle : \" , 2 * 3.14 * self.radius)\n",
    " \n",
    "n = int(input(\"Enter the radius to calculate : \"))\n",
    "c1 = circle(n)\n",
    "c1.area()\n",
    "c1.perimeter()"
   ]
  },
  {
   "cell_type": "markdown",
   "id": "b1d62e05",
   "metadata": {},
   "source": [
    "## Append, Delete and Display Elements of a List using Classes"
   ]
  },
  {
   "cell_type": "code",
   "execution_count": 7,
   "id": "745bbf01",
   "metadata": {},
   "outputs": [
    {
     "name": "stdout",
     "output_type": "stream",
     "text": [
      "\n",
      "========================\n",
      "==========Menu==========\n",
      "========================\n",
      "\n",
      "1. Append\n",
      "2. Remove\n",
      "3. Display\n",
      "4. Exit\n",
      "Enter your choice: 1\n",
      "Enter the Element to add in the list : 11\n",
      "[11]\n",
      "\n",
      "========================\n",
      "==========Menu==========\n",
      "========================\n",
      "\n",
      "1. Append\n",
      "2. Remove\n",
      "3. Display\n",
      "4. Exit\n",
      "Enter your choice: 1\n",
      "Enter the Element to add in the list : 22\n",
      "[11, 22]\n",
      "\n",
      "========================\n",
      "==========Menu==========\n",
      "========================\n",
      "\n",
      "1. Append\n",
      "2. Remove\n",
      "3. Display\n",
      "4. Exit\n",
      "Enter your choice: 1\n",
      "Enter the Element to add in the list : 33\n",
      "[11, 22, 33]\n",
      "\n",
      "========================\n",
      "==========Menu==========\n",
      "========================\n",
      "\n",
      "1. Append\n",
      "2. Remove\n",
      "3. Display\n",
      "4. Exit\n",
      "Enter your choice: 1\n",
      "Enter the Element to add in the list : 44\n",
      "[11, 22, 33, 44]\n",
      "\n",
      "========================\n",
      "==========Menu==========\n",
      "========================\n",
      "\n",
      "1. Append\n",
      "2. Remove\n",
      "3. Display\n",
      "4. Exit\n",
      "Enter your choice: 2\n",
      "Enter the Element to remove from the list : 33\n",
      "[11, 22, 44]\n",
      "\n",
      "========================\n",
      "==========Menu==========\n",
      "========================\n",
      "\n",
      "1. Append\n",
      "2. Remove\n",
      "3. Display\n",
      "4. Exit\n",
      "Enter your choice: 4\n",
      "\n"
     ]
    }
   ],
   "source": [
    "class create:\n",
    "    def __init__(self):\n",
    "        self.l = []\n",
    "    def add(self,a):\n",
    "        return self.l.append(a)\n",
    "    def remove(self,b):\n",
    "        self.l.remove(b)\n",
    "    def dis(self):\n",
    "        return self.l\n",
    "\n",
    "l1 = create()\n",
    "\n",
    "while True:\n",
    "    print(\"\\n========================\")\n",
    "    print(\"==========Menu==========\")\n",
    "    print(\"========================\\n\")\n",
    "    print(\"1. Append\\n2. Remove\\n3. Display\\n4. Exit\")\n",
    "    option = int(input(\"Enter your choice: \"))\n",
    "    \n",
    "    if option == 1:\n",
    "        app = int(input(\"Enter the Element to add in the list : \"))\n",
    "        l1.add(app)\n",
    "        print(l1.dis())\n",
    "        \n",
    "    elif option == 2:\n",
    "        n = int(input(\"Enter the Element to remove from the list : \"))\n",
    "        l1.remove(n)\n",
    "        print(l1.dis())\n",
    "        \n",
    "    elif option == 3:\n",
    "        print(l1.dis())\n",
    "        \n",
    "    elif option == 4:\n",
    "        break\n",
    "    else:\n",
    "        print(\"Invalid Selection! Please enter correct option!\")\n",
    "print()"
   ]
  }
 ],
 "metadata": {
  "kernelspec": {
   "display_name": "Python 3 (ipykernel)",
   "language": "python",
   "name": "python3"
  },
  "language_info": {
   "codemirror_mode": {
    "name": "ipython",
    "version": 3
   },
   "file_extension": ".py",
   "mimetype": "text/x-python",
   "name": "python",
   "nbconvert_exporter": "python",
   "pygments_lexer": "ipython3",
   "version": "3.10.2"
  }
 },
 "nbformat": 4,
 "nbformat_minor": 5
}
