{
 "cells": [
  {
   "cell_type": "markdown",
   "id": "bbe95005",
   "metadata": {},
   "source": [
    "## Pattern 1 - Half Pyramid With Asterisk ‘ * ’ "
   ]
  },
  {
   "cell_type": "code",
   "execution_count": null,
   "id": "7f9884b9",
   "metadata": {},
   "outputs": [],
   "source": [
    "*\n",
    "**\n",
    "***\n",
    "****\n",
    "*****"
   ]
  },
  {
   "cell_type": "code",
   "execution_count": 19,
   "id": "54d0e842",
   "metadata": {},
   "outputs": [
    {
     "name": "stdout",
     "output_type": "stream",
     "text": [
      "Enter the number of rows : 5\n",
      "*\n",
      "**\n",
      "***\n",
      "****\n",
      "*****\n"
     ]
    }
   ],
   "source": [
    "n = int(input(\"Enter the number of rows : \"))\n",
    "for i in range(1,n+1):\n",
    "    print(\"*\" * i,end =\"\")\n",
    "    print()"
   ]
  },
  {
   "cell_type": "markdown",
   "id": "838cde24",
   "metadata": {},
   "source": [
    "## Pattern 2 - Inverse Half Pyramid Variation with Asterisk ‘ * ’"
   ]
  },
  {
   "cell_type": "code",
   "execution_count": null,
   "id": "6640999f",
   "metadata": {},
   "outputs": [],
   "source": [
    "*****\n",
    " ****\n",
    "  ***\n",
    "   **\n",
    "    *"
   ]
  },
  {
   "cell_type": "code",
   "execution_count": 11,
   "id": "31a214f8",
   "metadata": {},
   "outputs": [
    {
     "name": "stdout",
     "output_type": "stream",
     "text": [
      "Enter the number of rows : 5\n",
      "*****\n",
      " ****\n",
      "  ***\n",
      "   **\n",
      "    *\n"
     ]
    }
   ],
   "source": [
    "N = int(input(\"Enter the number of rows : \"))\n",
    "for i in range(N):\n",
    "    print(\" \" * i, end = \"\")\n",
    "    print(\"*\" * (N - i))"
   ]
  },
  {
   "cell_type": "markdown",
   "id": "edf95b94",
   "metadata": {},
   "source": [
    "## Pattern 3 - Half Pyramid With Numbers"
   ]
  },
  {
   "cell_type": "code",
   "execution_count": null,
   "id": "6e70cdaf",
   "metadata": {},
   "outputs": [],
   "source": [
    "1\n",
    "2 2\n",
    "3 3 3\n",
    "4 4 4 4\n",
    "5 5 5 5 5"
   ]
  },
  {
   "cell_type": "code",
   "execution_count": 48,
   "id": "7a015663",
   "metadata": {},
   "outputs": [
    {
     "name": "stdout",
     "output_type": "stream",
     "text": [
      "Enter the number of rows : 5\n",
      "1 \n",
      "2 2 \n",
      "3 3 3 \n",
      "4 4 4 4 \n",
      "5 5 5 5 5 \n"
     ]
    }
   ],
   "source": [
    "n = int(input(\"Enter the number of rows : \"))\n",
    "for i in range(1,n+1):\n",
    "    for j in range(i):\n",
    "        print(i, end = ' ')\n",
    "    print()"
   ]
  },
  {
   "cell_type": "markdown",
   "id": "76708240",
   "metadata": {},
   "source": [
    "## Pattern 4 - Full Pyramid with Asterisk ‘ * ’"
   ]
  },
  {
   "cell_type": "code",
   "execution_count": null,
   "id": "11b374dc",
   "metadata": {},
   "outputs": [],
   "source": [
    "    * \n",
    "   * * \n",
    "  * * * \n",
    " * * * * \n",
    "* * * * * "
   ]
  },
  {
   "cell_type": "code",
   "execution_count": 51,
   "id": "04035ed5",
   "metadata": {},
   "outputs": [
    {
     "name": "stdout",
     "output_type": "stream",
     "text": [
      "Enter the number of rows : 5\n",
      "    * \n",
      "   * * \n",
      "  * * * \n",
      " * * * * \n",
      "* * * * * \n"
     ]
    }
   ],
   "source": [
    "n = int(input(\"Enter the number of rows : \"))\n",
    "for i in range(1,n+1):\n",
    "    for j in range(n-i):\n",
    "        print(\" \", end = \"\")\n",
    "    for j in range(i):\n",
    "        print(\"* \",end = \"\")\n",
    "    print()"
   ]
  },
  {
   "cell_type": "code",
   "execution_count": null,
   "id": "43d2feb5",
   "metadata": {},
   "outputs": [],
   "source": []
  }
 ],
 "metadata": {
  "kernelspec": {
   "display_name": "Python 3 (ipykernel)",
   "language": "python",
   "name": "python3"
  },
  "language_info": {
   "codemirror_mode": {
    "name": "ipython",
    "version": 3
   },
   "file_extension": ".py",
   "mimetype": "text/x-python",
   "name": "python",
   "nbconvert_exporter": "python",
   "pygments_lexer": "ipython3",
   "version": "3.9.12"
  }
 },
 "nbformat": 4,
 "nbformat_minor": 5
}
