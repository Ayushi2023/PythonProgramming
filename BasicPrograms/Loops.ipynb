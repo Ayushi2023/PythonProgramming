{
 "cells": [
  {
   "cell_type": "markdown",
   "id": "af740059",
   "metadata": {},
   "source": [
    "## Question 1 - Find addition of first ten natural numbers."
   ]
  },
  {
   "cell_type": "code",
   "execution_count": 5,
   "id": "5020b296",
   "metadata": {},
   "outputs": [
    {
     "name": "stdout",
     "output_type": "stream",
     "text": [
      "Addition of first 10 natural numbers :  55\n"
     ]
    }
   ],
   "source": [
    "add = 0\n",
    "for i in range(1,11):\n",
    "    add = add + i\n",
    "print(\"Addition of first 10 natural numbers : \",add)"
   ]
  },
  {
   "cell_type": "markdown",
   "id": "92154f8f",
   "metadata": {},
   "source": [
    "## Question 2 - Read a number from user and Find the factorial of the number."
   ]
  },
  {
   "cell_type": "code",
   "execution_count": 9,
   "id": "25e0a6fc",
   "metadata": {},
   "outputs": [
    {
     "name": "stdout",
     "output_type": "stream",
     "text": [
      "Enter the number : 5\n",
      "Factorial of the number :  120\n"
     ]
    }
   ],
   "source": [
    "num = int(input(\"Enter the number : \"))\n",
    "a = 1\n",
    "for i in range(1,num + 1):\n",
    "    a = a * i\n",
    "print(\"Factorial of the number : \",a)"
   ]
  },
  {
   "cell_type": "markdown",
   "id": "d202d9c1",
   "metadata": {},
   "source": [
    "## Question 3 - Take a number user input and Find sum of digits of this number."
   ]
  },
  {
   "cell_type": "code",
   "execution_count": 17,
   "id": "b177f50a",
   "metadata": {},
   "outputs": [
    {
     "name": "stdout",
     "output_type": "stream",
     "text": [
      "Enter the number : 999\n",
      "Sum of digits of the number :  27\n"
     ]
    }
   ],
   "source": [
    "num = int(input(\"Enter the number : \"))\n",
    "sum1 = 0\n",
    "while num != 0:\n",
    "    rem = num % 10\n",
    "    sum1 = sum1 + rem\n",
    "    num = num // 10\n",
    "print(\"Sum of digits of the number : \",sum1)"
   ]
  },
  {
   "cell_type": "markdown",
   "id": "5566def9",
   "metadata": {},
   "source": [
    "## Question4 - Read a number from keyboard and print it in reverse."
   ]
  },
  {
   "cell_type": "code",
   "execution_count": 19,
   "id": "a485fe13",
   "metadata": {},
   "outputs": [
    {
     "name": "stdout",
     "output_type": "stream",
     "text": [
      "Enter the number : 456\n",
      "Reverse of the number :  654\n"
     ]
    }
   ],
   "source": [
    "num = int(input(\"Enter the number : \"))\n",
    "rev = 0\n",
    "while num != 0:\n",
    "    rem = num % 10\n",
    "    rev = (rev * 10) + rem\n",
    "    num = num // 10\n",
    "print(\"Reverse of the number : \",rev)"
   ]
  },
  {
   "cell_type": "markdown",
   "id": "b50c0223",
   "metadata": {},
   "source": [
    "## Question 5 - Write a program to check whether entered number is prime or not"
   ]
  },
  {
   "cell_type": "code",
   "execution_count": 24,
   "id": "d448cec1",
   "metadata": {},
   "outputs": [
    {
     "name": "stdout",
     "output_type": "stream",
     "text": [
      "Enter the number : 6\n",
      "6 is not prime number\n"
     ]
    }
   ],
   "source": [
    "num = int(input(\"Enter the number : \"))\n",
    "count = 0\n",
    "for i in range(1,num+1):\n",
    "    if num % i == 0:\n",
    "        count = count + 1\n",
    "if count == 2:\n",
    "    print(\"{} is prime number\".format(num))\n",
    "else:\n",
    "    print(\"{} is not prime number\".format(num))"
   ]
  },
  {
   "cell_type": "markdown",
   "id": "9a7ffe2a",
   "metadata": {},
   "source": [
    "## Q uestion 6 - Find power of x raised to y from user input."
   ]
  },
  {
   "cell_type": "code",
   "execution_count": 26,
   "id": "deb82316",
   "metadata": {},
   "outputs": [
    {
     "name": "stdout",
     "output_type": "stream",
     "text": [
      "Enter the value of X : 5\n",
      "Enter the value of Y : 3\n",
      "5^3 = 125\n"
     ]
    }
   ],
   "source": [
    "x = int(input(\"Enter the value of X : \"))\n",
    "y = int(input(\"Enter the value of Y : \"))\n",
    "temp = 1\n",
    "for i in range(y):\n",
    "    temp = temp * x\n",
    "print(\"{}^{} = {}\".format(x, y, temp))"
   ]
  }
 ],
 "metadata": {
  "kernelspec": {
   "display_name": "Python 3 (ipykernel)",
   "language": "python",
   "name": "python3"
  },
  "language_info": {
   "codemirror_mode": {
    "name": "ipython",
    "version": 3
   },
   "file_extension": ".py",
   "mimetype": "text/x-python",
   "name": "python",
   "nbconvert_exporter": "python",
   "pygments_lexer": "ipython3",
   "version": "3.9.12"
  }
 },
 "nbformat": 4,
 "nbformat_minor": 5
}
