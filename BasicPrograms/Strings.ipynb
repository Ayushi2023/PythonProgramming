{
 "cells": [
  {
   "cell_type": "markdown",
   "id": "650cdd67",
   "metadata": {},
   "source": [
    "## Question 1 - Python Program to Remove Odd Indexed Characters in a string"
   ]
  },
  {
   "cell_type": "code",
   "execution_count": 6,
   "id": "719a3456",
   "metadata": {},
   "outputs": [
    {
     "name": "stdout",
     "output_type": "stream",
     "text": [
      "Enter the string : ayushi\n",
      "auh"
     ]
    }
   ],
   "source": [
    "string = input(\"Enter the string : \")\n",
    "for i in range(0,len(string),2):\n",
    "    print(string[i], end = \"\")"
   ]
  },
  {
   "cell_type": "markdown",
   "id": "1027a939",
   "metadata": {},
   "source": [
    "## Question 2 - Python Program to Count Number of Uppercase and Lowercase Letters in a String"
   ]
  },
  {
   "cell_type": "code",
   "execution_count": 14,
   "id": "4883f4bd",
   "metadata": {},
   "outputs": [
    {
     "name": "stdout",
     "output_type": "stream",
     "text": [
      "Enter the string : WelCOme\n",
      "Number of Uppercase letters :  3\n",
      "Number of Lowercase letters :  4\n"
     ]
    }
   ],
   "source": [
    "string = input(\"Enter the string : \")\n",
    "C_upper , C_lower = 0 , 0\n",
    "for i in range(len(string)):\n",
    "    if string[i].isupper():\n",
    "        C_upper += 1\n",
    "    elif string[i].islower():\n",
    "        C_lower += 1\n",
    "print(\"Number of Uppercase letters : \",C_upper)\n",
    "print(\"Number of Lowercase letters : \",C_lower)"
   ]
  },
  {
   "cell_type": "markdown",
   "id": "0458cd50",
   "metadata": {},
   "source": [
    "## Question 3 - Python Program to Find Common Characters in Two Strings"
   ]
  },
  {
   "cell_type": "code",
   "execution_count": 8,
   "id": "7d4d0ef7",
   "metadata": {},
   "outputs": [
    {
     "name": "stdout",
     "output_type": "stream",
     "text": [
      "Enter the First string : goodmorning\n",
      "Enter the Second string : goodevening\n",
      "['d', 'i', 'g', 'o', 'n']\n"
     ]
    }
   ],
   "source": [
    "string1 = input(\"Enter the First string : \")\n",
    "string2 = input(\"Enter the Second string : \")\n",
    "string3 = set(string1)\n",
    "a = []\n",
    "for i in string3:\n",
    "    if i in string2:\n",
    "        a.append(i)\n",
    "print(a)"
   ]
  },
  {
   "cell_type": "markdown",
   "id": "c2a3e9d4",
   "metadata": {},
   "source": [
    "## Question 4 - Python Program to Calculate the Length of a String Without using Library Functions"
   ]
  },
  {
   "cell_type": "code",
   "execution_count": 7,
   "id": "bdb1717a",
   "metadata": {},
   "outputs": [
    {
     "name": "stdout",
     "output_type": "stream",
     "text": [
      "Enter the First string : Goodmorning\n",
      "11\n"
     ]
    }
   ],
   "source": [
    "string = input(\"Enter the string : \")\n",
    "count = 0\n",
    "for i in string1:\n",
    "    count += 1\n",
    "print(count)"
   ]
  },
  {
   "cell_type": "markdown",
   "id": "5b6843bc",
   "metadata": {},
   "source": [
    "## Question 5 - Python Program to Check if the Substring is Present in the Given String "
   ]
  },
  {
   "cell_type": "code",
   "execution_count": 21,
   "id": "fbd5d7a5",
   "metadata": {},
   "outputs": [
    {
     "name": "stdout",
     "output_type": "stream",
     "text": [
      "Enter the string : geeksforgeeks\n",
      "Enter the substring : for\n",
      "Yes , substring is present\n"
     ]
    }
   ],
   "source": [
    "string = input(\"Enter the string : \")\n",
    "sub = input(\"Enter the substring : \")\n",
    "if sub in string:\n",
    "    print(\"Yes , substring is present\")\n",
    "else:\n",
    "    print(\"No , substring is not present\")"
   ]
  },
  {
   "cell_type": "markdown",
   "id": "14c6a1b1",
   "metadata": {},
   "source": [
    "## Question 6 - Python Program to Create a New String Made up of First and Last 2 Characters"
   ]
  },
  {
   "cell_type": "code",
   "execution_count": 17,
   "id": "3c3edadc",
   "metadata": {},
   "outputs": [
    {
     "name": "stdout",
     "output_type": "stream",
     "text": [
      "Enter the string : welcome\n",
      "New string created is :  weme\n"
     ]
    }
   ],
   "source": [
    "string = input(\"Enter the string : \")\n",
    "print(\"New string created is : \", string[0:2]+string[-2:])"
   ]
  },
  {
   "cell_type": "markdown",
   "id": "ca91b6a9",
   "metadata": {},
   "source": [
    "## Question 7 - Python Program to Replace All Occurrences of ‘a’ with $ in a String"
   ]
  },
  {
   "cell_type": "code",
   "execution_count": 18,
   "id": "525d207d",
   "metadata": {},
   "outputs": [
    {
     "name": "stdout",
     "output_type": "stream",
     "text": [
      "Enter the string : aradhaya\n",
      "Output :  $r$dh$y$\n"
     ]
    }
   ],
   "source": [
    "string = input(\"Enter the string : \")\n",
    "print(\"Output : \", string.replace(\"a\",\"$\"))"
   ]
  },
  {
   "cell_type": "markdown",
   "id": "844178c5",
   "metadata": {},
   "source": [
    "## Question 8 -Python Program to Swap the First and the Last Character of a String"
   ]
  },
  {
   "cell_type": "code",
   "execution_count": 20,
   "id": "5e1eb07c",
   "metadata": {},
   "outputs": [
    {
     "name": "stdout",
     "output_type": "stream",
     "text": [
      "Enter the string : Glorious\n",
      "Modified string :  sloriouG\n"
     ]
    }
   ],
   "source": [
    "string = input(\"Enter the string : \")\n",
    "print(\"Modified string : \", string[-1] + string[1:-1] + string[0])"
   ]
  },
  {
   "cell_type": "code",
   "execution_count": 23,
   "id": "37d78b82",
   "metadata": {},
   "outputs": [
    {
     "name": "stdout",
     "output_type": "stream",
     "text": [
      "Enter the string : Glorious\n",
      "Modified string :  sloriouG\n"
     ]
    }
   ],
   "source": [
    "string = list(input(\"Enter the string : \"))\n",
    "string[0], string[-1] = string[-1], string[0]\n",
    "print(\"Modified string : \",\"\".join(string))"
   ]
  },
  {
   "cell_type": "markdown",
   "id": "4ae62a77",
   "metadata": {},
   "source": [
    "## Question 9 - Python Program to Count Number of Vowels in a String using Sets"
   ]
  },
  {
   "cell_type": "code",
   "execution_count": 24,
   "id": "25068a78",
   "metadata": {},
   "outputs": [
    {
     "name": "stdout",
     "output_type": "stream",
     "text": [
      "Enter the string : welcome\n",
      "Number of vowels :  3\n"
     ]
    }
   ],
   "source": [
    "string = input(\"Enter the string : \")\n",
    "vowels = set(\"aeiou\")\n",
    "count = 0\n",
    "for i in string:\n",
    "    if i in vowels:\n",
    "        count += 1\n",
    "print(\"Number of vowels : \", count)"
   ]
  },
  {
   "cell_type": "markdown",
   "id": "571ffe15",
   "metadata": {},
   "source": [
    "## Question 10 - Python Program to Reverse a String"
   ]
  },
  {
   "cell_type": "code",
   "execution_count": 38,
   "id": "f7aa594b",
   "metadata": {},
   "outputs": [
    {
     "name": "stdout",
     "output_type": "stream",
     "text": [
      "Enter the string : apple\n",
      "elppa\n"
     ]
    }
   ],
   "source": [
    "string = input(\"Enter the string : \")\n",
    "print((string[::-1]))   ## means start at the end of the string & end at position 1, move step with -1(one step backward)"
   ]
  }
 ],
 "metadata": {
  "kernelspec": {
   "display_name": "Python 3 (ipykernel)",
   "language": "python",
   "name": "python3"
  },
  "language_info": {
   "codemirror_mode": {
    "name": "ipython",
    "version": 3
   },
   "file_extension": ".py",
   "mimetype": "text/x-python",
   "name": "python",
   "nbconvert_exporter": "python",
   "pygments_lexer": "ipython3",
   "version": "3.9.12"
  }
 },
 "nbformat": 4,
 "nbformat_minor": 5
}
