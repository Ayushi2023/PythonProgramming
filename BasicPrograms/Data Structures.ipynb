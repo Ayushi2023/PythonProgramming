{
 "cells": [
  {
   "cell_type": "markdown",
   "id": "2bf3ab86",
   "metadata": {},
   "source": [
    "## Given the list of ten elements. Sort only higherorder 50% list and print it.\n",
    "* Before: [5, 6, 2, 8, 9, 1, 3, 7, 4, 0]\n",
    "* After: [5, 6, 2, 8, 9, 0, 1, 3, 4, 7]"
   ]
  },
  {
   "cell_type": "code",
   "execution_count": 9,
   "id": "fd372417",
   "metadata": {},
   "outputs": [
    {
     "name": "stdout",
     "output_type": "stream",
     "text": [
      "Enter the elements in the list : 5 6 2 8 9 1 3 7 4 0\n",
      "The sorted list is :  [5, 6, 2, 8, 9, 0, 1, 3, 4, 7]\n"
     ]
    }
   ],
   "source": [
    "lis = list(map(int,input(\"Enter the elements in the list : \").split()))\n",
    "for i in range(len(lis)//2 , len(lis)):\n",
    "    for j in range(i + 1,len(lis)):\n",
    "        if lis[i] > lis[j]:\n",
    "            temp = lis[j]\n",
    "            lis[j] = lis[i]\n",
    "            lis[i] = temp\n",
    "print(\"The sorted list is : \", lis)"
   ]
  },
  {
   "cell_type": "markdown",
   "id": "0dbf869a",
   "metadata": {},
   "source": [
    "## Python Program to Print Largest Even and Largest Odd Number in a List"
   ]
  },
  {
   "cell_type": "code",
   "execution_count": 6,
   "id": "d01d655b",
   "metadata": {},
   "outputs": [
    {
     "name": "stdout",
     "output_type": "stream",
     "text": [
      "Enter the elements in a list : 11 22 99 88 33 44 55 77\n",
      "88\n",
      "99\n"
     ]
    }
   ],
   "source": [
    "lis = list(map(int,input(\"Enter the elements in a list : \").split()))\n",
    "even , odd = [] , []\n",
    "for i in lis:\n",
    "    even.append(i) if i % 2 == 0 else odd.append(i)\n",
    "print(max(even))\n",
    "print(max(odd))"
   ]
  },
  {
   "cell_type": "markdown",
   "id": "eb4fe2ce",
   "metadata": {},
   "source": [
    "## Python Program to Print Sum of Negative Numbers, Positive Even & Odd Numbers in a List"
   ]
  },
  {
   "cell_type": "code",
   "execution_count": 7,
   "id": "2d238366",
   "metadata": {},
   "outputs": [
    {
     "name": "stdout",
     "output_type": "stream",
     "text": [
      "1 2 -3 4 -4 5 -10 12 -14\n",
      "-31\n",
      "18\n",
      "6\n"
     ]
    }
   ],
   "source": [
    "l = list(map(int, input().split()))\n",
    "print(sum(list(filter(lambda x : x < 0,l))))\n",
    "print(sum(list(filter(lambda x : x % 2 == 0 and x > 0 ,l))))\n",
    "print(sum(list(filter(lambda x : x % 2 != 0 and x > 0,l))))"
   ]
  },
  {
   "cell_type": "markdown",
   "id": "637f1b29",
   "metadata": {},
   "source": [
    "## Python Program to Count Occurrences of Element in List"
   ]
  },
  {
   "cell_type": "code",
   "execution_count": 11,
   "id": "2388586a",
   "metadata": {},
   "outputs": [
    {
     "name": "stdout",
     "output_type": "stream",
     "text": [
      "1 2 3 3 2 1 4 5 6\n",
      "1 occured 2 times\n",
      "2 occured 2 times\n",
      "3 occured 2 times\n",
      "4 occured 1 times\n",
      "5 occured 1 times\n",
      "6 occured 1 times\n"
     ]
    }
   ],
   "source": [
    "l = list(map(int, input().split()))\n",
    "for i in set(l):\n",
    "    print(\"{} occured {} times\".format(i, l.count(i)))"
   ]
  },
  {
   "cell_type": "markdown",
   "id": "bce0eb71",
   "metadata": {},
   "source": [
    "## Wap to count a total number of duplicate elements in an array."
   ]
  },
  {
   "cell_type": "code",
   "execution_count": 15,
   "id": "5fd7ac05",
   "metadata": {},
   "outputs": [
    {
     "name": "stdout",
     "output_type": "stream",
     "text": [
      "4 8 5 2 5 2 9 4 2 5\n",
      "3\n"
     ]
    }
   ],
   "source": [
    "lis = list(map(int,input().split()))\n",
    "lis1 = set()\n",
    "for i in lis:\n",
    "    if lis.count(i) > 1:\n",
    "        lis1.add(i)\n",
    "print(len(lis1))"
   ]
  }
 ],
 "metadata": {
  "kernelspec": {
   "display_name": "Python 3 (ipykernel)",
   "language": "python",
   "name": "python3"
  },
  "language_info": {
   "codemirror_mode": {
    "name": "ipython",
    "version": 3
   },
   "file_extension": ".py",
   "mimetype": "text/x-python",
   "name": "python",
   "nbconvert_exporter": "python",
   "pygments_lexer": "ipython3",
   "version": "3.10.2"
  }
 },
 "nbformat": 4,
 "nbformat_minor": 5
}
