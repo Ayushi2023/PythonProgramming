{
 "cells": [
  {
   "cell_type": "markdown",
   "id": "d41459bc",
   "metadata": {},
   "source": [
    "## Python Program to Sort a List According to the Second Element in Sublist"
   ]
  },
  {
   "cell_type": "raw",
   "id": "0a340550",
   "metadata": {},
   "source": [
    "Input = [[0, 2], [1, 3], [2, 1]]\n",
    "\n",
    "Output = [[2, 1], [0, 2], [1, 3]]"
   ]
  },
  {
   "cell_type": "code",
   "execution_count": 5,
   "id": "663d05c9",
   "metadata": {},
   "outputs": [
    {
     "name": "stdout",
     "output_type": "stream",
     "text": [
      "Enter number of sublist :3\n",
      "0 2\n",
      "1 3\n",
      "2 1\n",
      "[[2, 1], [0, 2], [1, 3]]\n"
     ]
    }
   ],
   "source": [
    "lis = []\n",
    "n = int(input(\"Enter number of sublist :\"))\n",
    "for _ in range(n):\n",
    "    lis.append(list(map(int,input().split())))\n",
    "for i in range(0,len(lis)-1):\n",
    "    for j in range(i + 1, len(lis)):\n",
    "        if lis[i][1] > lis[j][1]:\n",
    "            temp = lis[i]\n",
    "            lis[i] = lis[j]\n",
    "            lis[j] = temp\n",
    "print(lis)"
   ]
  },
  {
   "cell_type": "code",
   "execution_count": 9,
   "id": "4595daca",
   "metadata": {},
   "outputs": [
    {
     "data": {
      "text/plain": [
       "[[2, 1], [0, 2], [4, 3]]"
      ]
     },
     "execution_count": 9,
     "metadata": {},
     "output_type": "execute_result"
    }
   ],
   "source": [
    "lis = [[0, 2], [4, 3], [2, 1]]\n",
    "sorted(lis, key = lambda i : i[1])"
   ]
  },
  {
   "cell_type": "markdown",
   "id": "614c57d2",
   "metadata": {},
   "source": [
    "## Python Program to Print Largest Even and Largest Odd Number in a List"
   ]
  },
  {
   "cell_type": "code",
   "execution_count": 1,
   "id": "96713e58",
   "metadata": {},
   "outputs": [
    {
     "name": "stdout",
     "output_type": "stream",
     "text": [
      "Enter the elements of list : 2 5 7 8 9 11 14 17 20\n",
      "20\n",
      "17\n"
     ]
    }
   ],
   "source": [
    "l = list(map(int, input(\"Enter the elements of list : \").split()))\n",
    "print(max(list(filter(lambda x: x % 2 == 0, l))))\n",
    "print(max(list(filter(lambda x: x % 2 != 0, l))))"
   ]
  },
  {
   "cell_type": "markdown",
   "id": "2ac5bcaa",
   "metadata": {},
   "source": [
    "## Python Program to Print Sum of Negative Numbers, Positive Even & Odd Numbers in a List"
   ]
  },
  {
   "cell_type": "code",
   "execution_count": 3,
   "id": "cee87ade",
   "metadata": {},
   "outputs": [
    {
     "name": "stdout",
     "output_type": "stream",
     "text": [
      "2 5 4 7 8\n",
      "5.2\n"
     ]
    }
   ],
   "source": [
    "l = list(map(int,input().split()))\n",
    "print(sum(l)/len(l))"
   ]
  },
  {
   "cell_type": "markdown",
   "id": "79befd67",
   "metadata": {},
   "source": [
    "## Python Program to Print All Possible Combinations of Three Digits"
   ]
  },
  {
   "cell_type": "code",
   "execution_count": 5,
   "id": "60aa8e06",
   "metadata": {},
   "outputs": [
    {
     "name": "stdout",
     "output_type": "stream",
     "text": [
      "Enter a Number: 123\n",
      "321\t312\t231\t213\t132\t123\t"
     ]
    }
   ],
   "source": [
    "from itertools import permutations\n",
    "num = int(input(\"Enter a Number: \"))\n",
    "lis = []\n",
    "while num != 0:   #For converting number into list\n",
    "    lis.append(num % 10)\n",
    "    num //= 10\n",
    "combination = permutations(lis, 3)  #Combinations of the Numbers\n",
    "for i in list(combination):\n",
    "    print(\"\".join(map(str, i)), end = \"\\t\")"
   ]
  },
  {
   "cell_type": "markdown",
   "id": "ee0f4bb0",
   "metadata": {},
   "source": [
    "## Python Program to Swap the First and Last Element in a List"
   ]
  },
  {
   "cell_type": "code",
   "execution_count": 7,
   "id": "7d344afc",
   "metadata": {},
   "outputs": [
    {
     "name": "stdout",
     "output_type": "stream",
     "text": [
      "Enter the elements in a list : 12 14 16 18\n",
      "New list after swapping :  [18, 14, 16, 12]\n"
     ]
    }
   ],
   "source": [
    "lis = list(map(int,input(\"Enter the elements in a list : \").split()))\n",
    "temp = lis[0]\n",
    "lis[0] = lis[len(lis) - 1]\n",
    "lis[len(lis) - 1] = temp\n",
    "print(\"New list after swapping : \", lis)"
   ]
  },
  {
   "cell_type": "markdown",
   "id": "17e689c1",
   "metadata": {},
   "source": [
    "## Python Program to Generate Random Numbers from 1 to 20 and Append Them to the List"
   ]
  },
  {
   "cell_type": "code",
   "execution_count": 16,
   "id": "c2a29ef3",
   "metadata": {},
   "outputs": [
    {
     "name": "stdout",
     "output_type": "stream",
     "text": [
      "Enter the no. elements in a list : 5\n",
      "[9, 8, 12, 14, 5]\n"
     ]
    }
   ],
   "source": [
    "import random\n",
    "lis = []\n",
    "n = int(input(\"Enter the no. elements in a list : \"))\n",
    "for i in range(n):\n",
    "    lis.append(random.randint(1,20))\n",
    "print(lis)"
   ]
  },
  {
   "cell_type": "markdown",
   "id": "7198a9f8",
   "metadata": {},
   "source": [
    "## Python Program to Find the Union of Two Lists"
   ]
  },
  {
   "cell_type": "code",
   "execution_count": 2,
   "id": "57f604c9",
   "metadata": {},
   "outputs": [
    {
     "name": "stdout",
     "output_type": "stream",
     "text": [
      "1 2 3 4 5 6 7 8\n",
      "1 1 5 6 7 4 9 8\n",
      "{1, 2, 3, 4, 5, 6, 7, 8, 9}\n"
     ]
    }
   ],
   "source": [
    "lis1 = set(list(map(int,input().split())))\n",
    "lis2 = set(list(map(int,input().split())))\n",
    "print(lis1.union(lis2))"
   ]
  },
  {
   "cell_type": "code",
   "execution_count": null,
   "id": "66355214",
   "metadata": {},
   "outputs": [],
   "source": []
  }
 ],
 "metadata": {
  "kernelspec": {
   "display_name": "Python 3 (ipykernel)",
   "language": "python",
   "name": "python3"
  },
  "language_info": {
   "codemirror_mode": {
    "name": "ipython",
    "version": 3
   },
   "file_extension": ".py",
   "mimetype": "text/x-python",
   "name": "python",
   "nbconvert_exporter": "python",
   "pygments_lexer": "ipython3",
   "version": "3.9.12"
  }
 },
 "nbformat": 4,
 "nbformat_minor": 5
}
