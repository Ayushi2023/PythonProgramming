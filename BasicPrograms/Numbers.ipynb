{
 "cells": [
  {
   "cell_type": "markdown",
   "id": "366993fa",
   "metadata": {},
   "source": [
    "## Question 1 - Find Prime Numbers in a Given Range"
   ]
  },
  {
   "cell_type": "code",
   "execution_count": 12,
   "id": "f927d8ed",
   "metadata": {},
   "outputs": [
    {
     "name": "stdout",
     "output_type": "stream",
     "text": [
      "Enter the range: 20\n",
      "2\t3\t5\t7\t11\t13\t17\t19\t"
     ]
    }
   ],
   "source": [
    "def prime(num):\n",
    "    count = 0\n",
    "    for i in range(1, num + 1):\n",
    "        if num % i == 0:\n",
    "            count += 1\n",
    "    if count == 2:\n",
    "        return True\n",
    "    else:\n",
    "        return False\n",
    "\n",
    "n = int(input(\"Enter the range: \"))\n",
    "for i in range(1, n + 1):\n",
    "    if prime(i):\n",
    "        print(i, end = \"\\t\")"
   ]
  },
  {
   "cell_type": "markdown",
   "id": "809e1daa",
   "metadata": {},
   "source": [
    "## Question 2 - Check Whether a Given Number is Perfect Number"
   ]
  },
  {
   "cell_type": "code",
   "execution_count": 1,
   "id": "dc5566f0",
   "metadata": {},
   "outputs": [
    {
     "name": "stdout",
     "output_type": "stream",
     "text": [
      "Enter the number : 6\n",
      "Yes,Entered number is perfect number\n"
     ]
    }
   ],
   "source": [
    "n = int(input(\"Enter the number : \"))\n",
    "sum1 = 0\n",
    "for i in range(1,n):\n",
    "    if n % i == 0:\n",
    "        sum1 = sum1 + i\n",
    "if sum1 == n:\n",
    "    print(\"Yes,Entered number is perfect number\")\n",
    "else:\n",
    "    print(\"No,Entered number is not perfect number\")"
   ]
  },
  {
   "cell_type": "markdown",
   "id": "859b04e5",
   "metadata": {},
   "source": [
    "## Question 3 - Check Armstrong Number"
   ]
  },
  {
   "cell_type": "code",
   "execution_count": 11,
   "id": "98e1949d",
   "metadata": {},
   "outputs": [
    {
     "name": "stdout",
     "output_type": "stream",
     "text": [
      "Enter the number to check : 153\n",
      "153 is an Armstrong number\n"
     ]
    }
   ],
   "source": [
    "n = int(input(\"Enter the number to check : \"))\n",
    "temp = n\n",
    "sum1 = 0\n",
    "while n > 0:\n",
    "    rem = n % 10\n",
    "    sum1 = sum1 + (rem ** 3)\n",
    "    n //= 10\n",
    "if sum1 == temp:\n",
    "    print(\"{} is an Armstrong number\".format(temp))\n",
    "else:\n",
    "    print(\"{} is not an Armstrong number\".format(temp))"
   ]
  },
  {
   "cell_type": "markdown",
   "id": "f9bb55ab",
   "metadata": {},
   "source": [
    "## Question 4 - Check if a Number is a Strong Number"
   ]
  },
  {
   "cell_type": "code",
   "execution_count": 18,
   "id": "cf8ebb0e",
   "metadata": {},
   "outputs": [
    {
     "name": "stdout",
     "output_type": "stream",
     "text": [
      "Enter the number to check : 145\n",
      "Is a Strong Number\n"
     ]
    }
   ],
   "source": [
    "n = input(\"Enter the number to check : \")\n",
    "sum1 = 0\n",
    "for i in n:\n",
    "    fact = 1\n",
    "    for j in range(1, int(i) + 1):\n",
    "        fact *= j\n",
    "    sum1 += fact\n",
    "if sum1 == int(n):\n",
    "    print(\"Is a Strong Number\")\n",
    "else:\n",
    "    print(\"Is not a Strong Number\")"
   ]
  },
  {
   "cell_type": "markdown",
   "id": "5ca55101",
   "metadata": {},
   "source": [
    "## Question 5 - Check If Two Numbers are Amicable Numbers or Not"
   ]
  },
  {
   "cell_type": "code",
   "execution_count": 23,
   "id": "bf4948cb",
   "metadata": {},
   "outputs": [
    {
     "name": "stdout",
     "output_type": "stream",
     "text": [
      "Enter the value of first number : 220\n",
      "Enter the value of second number : 284\n",
      "220 and 284 are amicable numbers\n"
     ]
    }
   ],
   "source": [
    "num1 = int(input(\"Enter the value of first number : \"))\n",
    "num2 = int(input(\"Enter the value of second number : \"))\n",
    "sum1 , sum2 = 0 , 0\n",
    "for i in range(1,num1):\n",
    "    if num1 % i == 0:\n",
    "        sum1 = sum1 + i\n",
    "for j in range(1,num2):\n",
    "    if num2 % j == 0:\n",
    "        sum2 = sum2 + j\n",
    "if sum1 == num2 and sum2 == num1:\n",
    "    print(\"{} and {} are amicable numbers\".format(num1,num2))\n",
    "else:\n",
    "    print(\"{} and {} are not amicable numbers\".format(num1,num2))"
   ]
  },
  {
   "cell_type": "markdown",
   "id": "18f7b5bf",
   "metadata": {},
   "source": [
    "## Question 6 - Find Whether a Number is a Power of Two"
   ]
  },
  {
   "cell_type": "code",
   "execution_count": 20,
   "id": "dffffcb5",
   "metadata": {},
   "outputs": [
    {
     "name": "stdout",
     "output_type": "stream",
     "text": [
      "Enter the number : 8\n",
      "8 is a Power of Two\n"
     ]
    }
   ],
   "source": [
    "num = int(input(\"Enter the number : \"))\n",
    "temp = num\n",
    "if num % 2 != 0:\n",
    "    print(\"No\")\n",
    "else:\n",
    "    while num % 2 == 0:\n",
    "        num //= 2\n",
    "    if num == 1:\n",
    "        print(\"{} is a Power of Two\".format(temp))\n",
    "    else:\n",
    "        print(\"{} is not a Power of Two\".format(temp))"
   ]
  },
  {
   "cell_type": "markdown",
   "id": "cabaa9ec",
   "metadata": {},
   "source": [
    "## Question 7 -  Find All Perfect Squares in the Given Range"
   ]
  },
  {
   "cell_type": "code",
   "execution_count": 28,
   "id": "e94d3ca9",
   "metadata": {},
   "outputs": [
    {
     "name": "stdout",
     "output_type": "stream",
     "text": [
      "Enter lower limit : 10\n",
      "Enter upper limit : 1000\n",
      "16\t25\t36\t49\t64\t81\t100\t121\t144\t169\t196\t225\t256\t289\t324\t361\t400\t441\t484\t529\t576\t625\t676\t729\t784\t841\t900\t961\t"
     ]
    }
   ],
   "source": [
    "lower = int(input(\"Enter lower limit : \"))\n",
    "upper = int(input(\"Enter upper limit : \"))\n",
    "count = 1\n",
    "while (count ** 2) <= upper:\n",
    "    if (count ** 2) < lower:\n",
    "        count += 1\n",
    "    else:\n",
    "        print(count ** 2, end = \"\\t\")\n",
    "        count += 1"
   ]
  },
  {
   "cell_type": "markdown",
   "id": "18ad525b",
   "metadata": {},
   "source": [
    "## Question 8 - Check if a Number is a Palindrome"
   ]
  },
  {
   "cell_type": "code",
   "execution_count": 2,
   "id": "0fab9605",
   "metadata": {},
   "outputs": [
    {
     "name": "stdout",
     "output_type": "stream",
     "text": [
      "Enter the number:2002\n",
      "Reverse of the number: 2002\n",
      "yes,The number is Palindrome\n"
     ]
    }
   ],
   "source": [
    "num = int(input(\"Enter the number:\"))\n",
    "temp = num\n",
    "rev = 0\n",
    "while num != 0:\n",
    "    rem = num % 10\n",
    "    rev = (rev * 10) + rem\n",
    "    num = num // 10\n",
    "print(\"Reverse of the number:\",rev)\n",
    "if rev == temp:\n",
    "    print(\"yes,The number is Palindrome\")\n",
    "else:\n",
    "    print(\"No,The number isn't a Palindrome\")"
   ]
  }
 ],
 "metadata": {
  "kernelspec": {
   "display_name": "Python 3 (ipykernel)",
   "language": "python",
   "name": "python3"
  },
  "language_info": {
   "codemirror_mode": {
    "name": "ipython",
    "version": 3
   },
   "file_extension": ".py",
   "mimetype": "text/x-python",
   "name": "python",
   "nbconvert_exporter": "python",
   "pygments_lexer": "ipython3",
   "version": "3.9.12"
  }
 },
 "nbformat": 4,
 "nbformat_minor": 5
}
