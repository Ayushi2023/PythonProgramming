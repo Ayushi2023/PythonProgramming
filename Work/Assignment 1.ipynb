{
 "cells": [
  {
   "cell_type": "markdown",
   "id": "4fee5d59",
   "metadata": {},
   "source": [
    "##  Convert List to Dictionary\n",
    "\n",
    "* Input: [“Name1”, “Zara”, “Age”, 7, “Class”, “First”]\n",
    "* Output: {“Name1”: “Zara”, “Age”: 7, “Class”: “First”}"
   ]
  },
  {
   "cell_type": "code",
   "execution_count": 1,
   "id": "099c1b00",
   "metadata": {},
   "outputs": [
    {
     "name": "stdout",
     "output_type": "stream",
     "text": [
      "“Name1”, “Zara”, “Age”, 7, “Class”, “First”\n",
      "{'“Name1”,': '“Zara”,', '“Age”,': '7,', '“Class”,': '“First”'}\n"
     ]
    }
   ],
   "source": [
    "x = list(input().split())\n",
    "dictionary = dict()\n",
    "for i in range(0, len(x), 2):\n",
    "    dictionary[x[i]] = x[i + 1]\n",
    "print(dictionary)"
   ]
  },
  {
   "cell_type": "markdown",
   "id": "fb2532b3",
   "metadata": {},
   "source": [
    "## WAP to Count Number of Uppercase and Lowercase Letters in a String"
   ]
  },
  {
   "cell_type": "code",
   "execution_count": 9,
   "id": "59748b56",
   "metadata": {},
   "outputs": [
    {
     "name": "stdout",
     "output_type": "stream",
     "text": [
      "Enter the string : GolDMan\n",
      "Number of lowercase letters in a string :  4\n",
      "Number of uppercase letters in a string :  3\n"
     ]
    }
   ],
   "source": [
    "a = input(\"Enter the string : \")\n",
    "lcount, ucount = 0, 0\n",
    "for i in range(len(a)):\n",
    "    if a[i].islower():\n",
    "        lcount+=1\n",
    "    elif a[i].isupper():\n",
    "        ucount+=1\n",
    "print(\"Number of lowercase letters in a string : \", lcount)\n",
    "print(\"Number of uppercase letters in a string : \", ucount)"
   ]
  },
  {
   "cell_type": "markdown",
   "id": "dbd62bed",
   "metadata": {},
   "source": [
    "## The program takes a number and checks if it is a strong number\n",
    "* 145 = 1! + 4! + 5! = 1 + (4 * 3 * 2 * 1) + (5 * 4 * 3 * 2 * 1) = 145"
   ]
  },
  {
   "cell_type": "code",
   "execution_count": 4,
   "id": "abbe3a1e",
   "metadata": {},
   "outputs": [
    {
     "name": "stdout",
     "output_type": "stream",
     "text": [
      "Enter the number to check : 145\n",
      "145 is a Strong Number\n"
     ]
    }
   ],
   "source": [
    "n = input(\"Enter the number to check : \")\n",
    "sum1 = 0\n",
    "for i in n:\n",
    "    fact = 1\n",
    "    for j in range(1, int(i) + 1):\n",
    "        fact *= j\n",
    "    sum1 += fact\n",
    "if sum1 == int(n):\n",
    "    print(\"{} is a Strong Number\".format(n))\n",
    "else:\n",
    "    print(\"{} is not a Strong Number\".format(n))"
   ]
  },
  {
   "cell_type": "markdown",
   "id": "71e2a8ee",
   "metadata": {},
   "source": [
    "## Create a Small Bank System using classes"
   ]
  },
  {
   "cell_type": "code",
   "execution_count": 5,
   "id": "fad4853a",
   "metadata": {},
   "outputs": [
    {
     "name": "stdout",
     "output_type": "stream",
     "text": [
      "Enter the Initial Amount: 20000\n",
      "====================================\n",
      "----------------Menu----------------\n",
      "====================================\n",
      "1. Deposit\n",
      "2. WithDraw\n",
      "3. Check Balance\n",
      "Enter END to exit\n",
      "Enter Your Choice: 1\n",
      "Enter the amount to deposit: 1200\n",
      "Remaining Balance:  21200\n",
      "====================================\n",
      "----------------Menu----------------\n",
      "====================================\n",
      "1. Deposit\n",
      "2. WithDraw\n",
      "3. Check Balance\n",
      "Enter END to exit\n",
      "Enter Your Choice: 2\n",
      "Enter the amount to withdraw: 500\n",
      "Remaining Balance:  20700\n",
      "====================================\n",
      "----------------Menu----------------\n",
      "====================================\n",
      "1. Deposit\n",
      "2. WithDraw\n",
      "3. Check Balance\n",
      "Enter END to exit\n",
      "Enter Your Choice: 3\n",
      "Total Amount in account:  20700\n",
      "====================================\n",
      "----------------Menu----------------\n",
      "====================================\n",
      "1. Deposit\n",
      "2. WithDraw\n",
      "3. Check Balance\n",
      "Enter END to exit\n",
      "Enter Your Choice: END\n"
     ]
    }
   ],
   "source": [
    "class bank:\n",
    "    def __init__(self, money):\n",
    "        self.ini = money\n",
    "    def deposit(self, dep):\n",
    "        self.ini += dep\n",
    "        print(\"Remaining Balance: \", self.ini)\n",
    "    def withdraw(self, wit):\n",
    "        if wit > self.ini or self.ini - wit < 0:\n",
    "            print(\"Insufficient Funds\")\n",
    "        else:\n",
    "            self.ini -= wit\n",
    "            print(\"Remaining Balance: \", self.ini)\n",
    "    def bal_check(self):\n",
    "        print(\"Total Amount in account: \", self.ini)\n",
    "\n",
    "money = int(input(\"Enter the Initial Amount: \"))\n",
    "b1 = bank(money)\n",
    "while True:\n",
    "    print(\"====================================\")\n",
    "    print(\"----------------Menu----------------\")\n",
    "    print(\"====================================\")\n",
    "    print(\"1. Deposit\\n2. WithDraw\\n3. Check Balance\\nEnter END to exit\")\n",
    "    opt = input(\"Enter Your Choice: \")\n",
    "    if opt == '1':\n",
    "        b1.deposit(int(input(\"Enter the amount to deposit: \")))\n",
    "    elif opt == '2':\n",
    "        b1.withdraw(int(input(\"Enter the amount to withdraw: \")))\n",
    "    elif opt == '3':\n",
    "        b1.bal_check()\n",
    "    elif opt == 'END':\n",
    "        break\n",
    "    else:\n",
    "        print(\"Invalid Input!\")"
   ]
  },
  {
   "cell_type": "code",
   "execution_count": 7,
   "id": "ef7841ec",
   "metadata": {},
   "outputs": [
    {
     "name": "stdout",
     "output_type": "stream",
     "text": [
      "The employee id is: 1\n",
      "The employee name is: Sweety\n",
      "The employee salary is: 20000\n",
      "The employee location is: Chhattisgarh\n",
      "Your company name is: Deloitte\n",
      "Total tax that you have to be paid is: 4000.0\n",
      "Total Bonus you will get: 2000.0\n"
     ]
    }
   ],
   "source": [
    "class Employee:\n",
    "    Company = \"Deloitte\"\n",
    "    def __init__(self,eid,ename,esal,eloc):\n",
    "        self.eid = eid\n",
    "        self.ename = ename\n",
    "        self.esal = esal\n",
    "        self.eloc = eloc\n",
    "        \n",
    "    def Show(self):\n",
    "        print(\"The employee id is:\", self.eid)\n",
    "        print(\"The employee name is:\", self.ename)\n",
    "        print(\"The employee salary is:\", self.esal)\n",
    "        print(\"The employee location is:\", self.eloc)\n",
    "        print(\"Your company name is:\", Employee.Company)\n",
    "    \n",
    "    def Tax_calc(self):\n",
    "        if self.esal <= 2000:\n",
    "            print(\"Total tax that you have to be paid is:\", self.esal * 0.00)\n",
    "        elif self.esal > 2000 and self.esal <= 5000:\n",
    "            print(\"Total tax that you have to be paid is:\", self.esal * 0.10)\n",
    "        else:\n",
    "            print(\"Total tax that you have to be paid is:\", self.esal * 0.20)\n",
    "    \n",
    "    def Bonus_calc(self):\n",
    "        if self.eloc == \"Pune\":\n",
    "            print(\"Total Bonus you will get:\", self.esal * 0.05)\n",
    "        else:\n",
    "            print(\"Total Bonus you will get:\", self.esal * 0.10)\n",
    "            \n",
    "            \n",
    "e1 = Employee(1,\"Sweety\",20000,\"Chhattisgarh\")\n",
    "e1.Show()\n",
    "e1.Tax_calc()\n",
    "e1.Bonus_calc()"
   ]
  }
 ],
 "metadata": {
  "kernelspec": {
   "display_name": "Python 3 (ipykernel)",
   "language": "python",
   "name": "python3"
  },
  "language_info": {
   "codemirror_mode": {
    "name": "ipython",
    "version": 3
   },
   "file_extension": ".py",
   "mimetype": "text/x-python",
   "name": "python",
   "nbconvert_exporter": "python",
   "pygments_lexer": "ipython3",
   "version": "3.10.2"
  }
 },
 "nbformat": 4,
 "nbformat_minor": 5
}
